{
 "cells": [
  {
   "cell_type": "code",
   "execution_count": 1,
   "id": "23442ce1",
   "metadata": {},
   "outputs": [],
   "source": [
    "import dataset\n",
    "import numpy as np\n",
    "import tensorflow as tf\n",
    "from tqdm import tqdm"
   ]
  },
  {
   "cell_type": "code",
   "execution_count": 2,
   "id": "3d7edb16",
   "metadata": {},
   "outputs": [],
   "source": [
    "class Model:\n",
    "    \n",
    "    input_features = 100\n",
    "    batch_size = 128\n",
    "    epochs = 1\n",
    "    gan = tf.keras.Sequential()\n",
    "    image_width = 64\n",
    "    dataset = []\n",
    "    learning_rate = 0.001\n",
    "    beta_1 = 0.05\n",
    "    \n",
    "    def random_generator_input(self):\n",
    "        return tf.random.normal((self.batch_size, self.input_features))\n",
    "    \n",
    "    def GAN(self):\n",
    "        \n",
    "        #generator\n",
    "        generator = tf.keras.Sequential()\n",
    "        generator.add(tf.keras.layers.Dense(self.input_features*4*4, input_shape=[self.input_features]))\n",
    "        generator.add(tf.keras.layers.Reshape([4, 4, self.input_features]))\n",
    "        generator.add(tf.keras.layers.Conv2DTranspose(int(self.input_features / 2), kernel_size = 5, strides = 2, padding = 'same', activation = 'selu'))\n",
    "        generator.add(tf.keras.layers.Conv2DTranspose(int(self.input_features / 4), kernel_size = 10, strides = 4, padding = 'same', activation = 'selu'))\n",
    "        generator.add(tf.keras.layers.Conv2DTranspose(3, kernel_size = 10, strides = 2, padding = 'same', activation = 'sigmoid'))\n",
    "        generator.summary()\n",
    "        \n",
    "        #discriminator\n",
    "        discriminator = tf.keras.Sequential()\n",
    "        discriminator.add(tf.keras.layers.Conv2D(200, kernel_size = 4, strides = 1, padding = 'same', input_shape= [self.image_width, self.image_width, 3]))\n",
    "        discriminator.add(tf.keras.layers.Conv2D(100, kernel_size=5, strides = 2, padding = 'same'))\n",
    "        discriminator.add(tf.keras.layers.Conv2D(9, kernel_size = 5, strides = 2, padding = 'same'))\n",
    "        discriminator.add(tf.keras.layers.Flatten())\n",
    "        discriminator.add(tf.keras.layers.Dense(1, activation = 'sigmoid'))\n",
    "        discriminator.summary()\n",
    "        \n",
    "        #GAN\n",
    "        GAN = tf.keras.Sequential([generator, discriminator])\n",
    "        self.gan = GAN\n",
    "        \n",
    "        #compiling\n",
    "        \n",
    "        adam_optimizer = tf.keras.optimizers.Adam(learning_rate=self.learning_rate, beta_1=self.beta_1)\n",
    "        generator.compile(optimizer=adam_optimizer, loss='binary_crossentropy')\n",
    "        discriminator.compile(optimizer=adam_optimizer, loss='binary_crossentropy')\n",
    "        GAN.compile(optimizer=adam_optimizer, loss='binary_crossentropy')\n",
    "        \n",
    "        return GAN\n",
    "    \n",
    "    def training_steps(self):\n",
    "        \n",
    "        generator, discriminator = self.gan.layers[0], self.gan.layers[1]\n",
    "        \n",
    "        for epoch in range(self.epochs):\n",
    "            \n",
    "            #train Discriminator\n",
    "            #Real samples = 1, fake samples = 0\n",
    "            discriminator.trainable = True\n",
    "            \n",
    "            generated_samples = generator(tf.random.normal(shape=[self.batch_size, self.input_features]))\n",
    "            real_samples = self.dataset[epoch * self.batch_size : (epoch + 1) * self.batch_size]\n",
    "            \n",
    "            discriminator_input = tf.concat([generated_samples, real_samples], axis = 0)\n",
    "            \n",
    "            zeros = tf.zeros(( self.batch_size, 1))\n",
    "            ones = tf.ones(( self.batch_size, 1))\n",
    "            \n",
    "            y_train = tf.concat([zeros, ones], axis = 0)\n",
    "            \n",
    "            discriminator.train_on_batch(discriminator_input, y_train)\n",
    "            \n",
    "            # Training Generator\n",
    "            discriminator.trainable = False\n",
    "            \n",
    "            input_samples = tf.random.normal(shape = [self.batch_size, self.input_features])\n",
    "            y_train = tf.ones((self.batch_size, 1))\n",
    "            \n",
    "            self.gan.train_on_batch(input_samples, y_train)"
   ]
  },
  {
   "cell_type": "code",
   "execution_count": 3,
   "id": "dca99bcc",
   "metadata": {},
   "outputs": [],
   "source": [
    "data = dataset.Dataset().load_data()"
   ]
  },
  {
   "cell_type": "code",
   "execution_count": 4,
   "id": "c7edf474",
   "metadata": {},
   "outputs": [
    {
     "data": {
      "text/plain": [
       "array([[[0.44313725, 0.38431373, 0.        ],\n",
       "        [0.50196078, 0.43921569, 0.0627451 ],\n",
       "        [0.49411765, 0.42745098, 0.0745098 ],\n",
       "        ...,\n",
       "        [0.70588235, 0.50588235, 0.00784314],\n",
       "        [0.70196078, 0.49803922, 0.01960784],\n",
       "        [0.68235294, 0.48627451, 0.00392157]],\n",
       "\n",
       "       [[0.45098039, 0.38823529, 0.01176471],\n",
       "        [0.45882353, 0.4       , 0.03529412],\n",
       "        [0.41176471, 0.34901961, 0.01568627],\n",
       "        ...,\n",
       "        [0.72156863, 0.50980392, 0.01568627],\n",
       "        [0.70196078, 0.49803922, 0.01960784],\n",
       "        [0.67058824, 0.4745098 , 0.        ]],\n",
       "\n",
       "       [[0.45098039, 0.38823529, 0.04313725],\n",
       "        [0.41176471, 0.35294118, 0.01960784],\n",
       "        [0.32941176, 0.27843137, 0.        ],\n",
       "        ...,\n",
       "        [0.7254902 , 0.51372549, 0.01960784],\n",
       "        [0.68627451, 0.48235294, 0.01960784],\n",
       "        [0.65098039, 0.44313725, 0.        ]],\n",
       "\n",
       "       ...,\n",
       "\n",
       "       [[0.30588235, 0.42745098, 0.40392157],\n",
       "        [0.4745098 , 0.58823529, 0.60392157],\n",
       "        [0.54901961, 0.65098039, 0.74901961],\n",
       "        ...,\n",
       "        [0.68627451, 0.51372549, 0.03921569],\n",
       "        [0.62352941, 0.45882353, 0.        ],\n",
       "        [0.67058824, 0.50588235, 0.04313725]],\n",
       "\n",
       "       [[0.37647059, 0.49411765, 0.4627451 ],\n",
       "        [0.48627451, 0.60392157, 0.60392157],\n",
       "        [0.53333333, 0.63921569, 0.70588235],\n",
       "        ...,\n",
       "        [0.70588235, 0.5254902 , 0.04705882],\n",
       "        [0.63137255, 0.45882353, 0.        ],\n",
       "        [0.6627451 , 0.50196078, 0.01568627]],\n",
       "\n",
       "       [[0.34117647, 0.45882353, 0.41960784],\n",
       "        [0.39215686, 0.50588235, 0.49019608],\n",
       "        [0.40392157, 0.51372549, 0.56078431],\n",
       "        ...,\n",
       "        [0.70196078, 0.5254902 , 0.03529412],\n",
       "        [0.70196078, 0.52941176, 0.03921569],\n",
       "        [0.75294118, 0.59215686, 0.09019608]]])"
      ]
     },
     "execution_count": 4,
     "metadata": {},
     "output_type": "execute_result"
    }
   ],
   "source": [
    "data[0]"
   ]
  },
  {
   "cell_type": "code",
   "execution_count": 5,
   "id": "b9ee155e",
   "metadata": {},
   "outputs": [],
   "source": [
    "model = Model()"
   ]
  },
  {
   "cell_type": "code",
   "execution_count": 6,
   "id": "c2b3e53a",
   "metadata": {},
   "outputs": [],
   "source": [
    "model.dataset = data"
   ]
  },
  {
   "cell_type": "code",
   "execution_count": 7,
   "id": "d9701c1c",
   "metadata": {},
   "outputs": [
    {
     "name": "stdout",
     "output_type": "stream",
     "text": [
      "Model: \"sequential_1\"\n",
      "_________________________________________________________________\n",
      " Layer (type)                Output Shape              Param #   \n",
      "=================================================================\n",
      " dense (Dense)               (None, 1600)              161600    \n",
      "                                                                 \n",
      " reshape (Reshape)           (None, 4, 4, 100)         0         \n",
      "                                                                 \n",
      " conv2d_transpose (Conv2DTra  (None, 8, 8, 50)         125050    \n",
      " nspose)                                                         \n",
      "                                                                 \n",
      " conv2d_transpose_1 (Conv2DT  (None, 32, 32, 25)       125025    \n",
      " ranspose)                                                       \n",
      "                                                                 \n",
      " conv2d_transpose_2 (Conv2DT  (None, 64, 64, 3)        7503      \n",
      " ranspose)                                                       \n",
      "                                                                 \n",
      "=================================================================\n",
      "Total params: 419,178\n",
      "Trainable params: 419,178\n",
      "Non-trainable params: 0\n",
      "_________________________________________________________________\n",
      "Model: \"sequential_2\"\n",
      "_________________________________________________________________\n",
      " Layer (type)                Output Shape              Param #   \n",
      "=================================================================\n",
      " conv2d (Conv2D)             (None, 64, 64, 200)       9800      \n",
      "                                                                 \n",
      " conv2d_1 (Conv2D)           (None, 32, 32, 100)       500100    \n",
      "                                                                 \n",
      " conv2d_2 (Conv2D)           (None, 16, 16, 9)         22509     \n",
      "                                                                 \n",
      " flatten (Flatten)           (None, 2304)              0         \n",
      "                                                                 \n",
      " dense_1 (Dense)             (None, 1)                 2305      \n",
      "                                                                 \n",
      "=================================================================\n",
      "Total params: 534,714\n",
      "Trainable params: 534,714\n",
      "Non-trainable params: 0\n",
      "_________________________________________________________________\n"
     ]
    },
    {
     "data": {
      "text/plain": [
       "<keras.engine.sequential.Sequential at 0x1a7198ea190>"
      ]
     },
     "execution_count": 7,
     "metadata": {},
     "output_type": "execute_result"
    }
   ],
   "source": [
    "model.GAN()"
   ]
  },
  {
   "cell_type": "code",
   "execution_count": null,
   "id": "3f503c2c",
   "metadata": {},
   "outputs": [],
   "source": [
    "model.training_steps()"
   ]
  },
  {
   "cell_type": "code",
   "execution_count": null,
   "id": "200856d6",
   "metadata": {},
   "outputs": [],
   "source": [
    "pic = model.gan.layers[0](tf.random.normal(shape=[1, 100]))"
   ]
  },
  {
   "cell_type": "code",
   "execution_count": null,
   "id": "0e7a5839",
   "metadata": {},
   "outputs": [],
   "source": [
    "import matplotlib.pyplot as plt"
   ]
  },
  {
   "cell_type": "code",
   "execution_count": null,
   "id": "9532f71a",
   "metadata": {},
   "outputs": [],
   "source": [
    "pic = np.array(pic)"
   ]
  },
  {
   "cell_type": "code",
   "execution_count": null,
   "id": "8b68633e",
   "metadata": {},
   "outputs": [],
   "source": [
    "plt.imshow(pic[0])"
   ]
  }
 ],
 "metadata": {
  "kernelspec": {
   "display_name": "Python 3 (ipykernel)",
   "language": "python",
   "name": "python3"
  },
  "language_info": {
   "codemirror_mode": {
    "name": "ipython",
    "version": 3
   },
   "file_extension": ".py",
   "mimetype": "text/x-python",
   "name": "python",
   "nbconvert_exporter": "python",
   "pygments_lexer": "ipython3",
   "version": "3.9.5"
  }
 },
 "nbformat": 4,
 "nbformat_minor": 5
}
