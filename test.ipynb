{
 "cells": [
  {
   "cell_type": "code",
   "execution_count": 1,
   "id": "1dfdfa67",
   "metadata": {},
   "outputs": [],
   "source": [
    "import tensorflow as tf\n",
    "import numpy as np"
   ]
  },
  {
   "cell_type": "code",
   "execution_count": 2,
   "id": "c284e90e",
   "metadata": {},
   "outputs": [],
   "source": [
    "input_features = 128"
   ]
  },
  {
   "cell_type": "code",
   "execution_count": 3,
   "id": "e351a557",
   "metadata": {
    "scrolled": true
   },
   "outputs": [
    {
     "name": "stdout",
     "output_type": "stream",
     "text": [
      "Model: \"sequential\"\n",
      "_________________________________________________________________\n",
      " Layer (type)                Output Shape              Param #   \n",
      "=================================================================\n",
      " dense (Dense)               (None, 2048)              264192    \n",
      "                                                                 \n",
      " reshape (Reshape)           (None, 4, 4, 128)         0         \n",
      "                                                                 \n",
      " conv2d_transpose (Conv2DTra  (None, 8, 8, 64)         204864    \n",
      " nspose)                                                         \n",
      "                                                                 \n",
      " conv2d_transpose_1 (Conv2DT  (None, 32, 32, 32)       204832    \n",
      " ranspose)                                                       \n",
      "                                                                 \n",
      " conv2d_transpose_2 (Conv2DT  (None, 64, 64, 3)        9603      \n",
      " ranspose)                                                       \n",
      "                                                                 \n",
      "=================================================================\n",
      "Total params: 683,491\n",
      "Trainable params: 683,491\n",
      "Non-trainable params: 0\n",
      "_________________________________________________________________\n"
     ]
    }
   ],
   "source": [
    "#generator\n",
    "generator = tf.keras.Sequential()\n",
    "generator.add(tf.keras.layers.Dense(input_features*4*4, input_shape=[input_features]))\n",
    "generator.add(tf.keras.layers.Reshape([4, 4, input_features]))\n",
    "generator.add(tf.keras.layers.Conv2DTranspose(int(input_features / 2), kernel_size = 5, strides = 2, padding = 'same', activation = 'selu'))\n",
    "generator.add(tf.keras.layers.Conv2DTranspose(int(input_features / 4), kernel_size = 10, strides = 4, padding = 'same', activation = 'selu'))\n",
    "generator.add(tf.keras.layers.Conv2DTranspose(3, kernel_size = 10, strides = 2, padding = 'same', activation = 'tanh'))\n",
    "generator.summary()        "
   ]
  },
  {
   "cell_type": "code",
   "execution_count": null,
   "id": "2d0a8c9e",
   "metadata": {},
   "outputs": [],
   "source": []
  },
  {
   "cell_type": "code",
   "execution_count": 39,
   "id": "248085a9",
   "metadata": {},
   "outputs": [],
   "source": [
    "#discriminator\n",
    "discriminator = tf.keras.Sequential()\n",
    "discriminator.add(tf.keras.layers.Conv2D(200, kernel_size = 4, strides = 1, padding = 'same', input_shape= [64, 64, 3]))"
   ]
  },
  {
   "cell_type": "code",
   "execution_count": 40,
   "id": "218545e2",
   "metadata": {},
   "outputs": [],
   "source": [
    "discriminator.add(tf.keras.layers.Conv2D(100, kernel_size=5, strides = 2, padding = 'same'))"
   ]
  },
  {
   "cell_type": "code",
   "execution_count": 41,
   "id": "c7ec2e37",
   "metadata": {},
   "outputs": [],
   "source": [
    "discriminator.add(tf.keras.layers.Conv2D(9, kernel_size = 5, strides = 2, padding = 'same'))"
   ]
  },
  {
   "cell_type": "code",
   "execution_count": 42,
   "id": "a7034bfc",
   "metadata": {},
   "outputs": [],
   "source": [
    "discriminator.add(tf.keras.layers.Flatten())"
   ]
  },
  {
   "cell_type": "code",
   "execution_count": 43,
   "id": "bda58a1c",
   "metadata": {},
   "outputs": [],
   "source": [
    "discriminator.add(tf.keras.layers.Dense(1, activation = 'sigmoid'))"
   ]
  },
  {
   "cell_type": "code",
   "execution_count": 44,
   "id": "1758e4d3",
   "metadata": {},
   "outputs": [
    {
     "name": "stdout",
     "output_type": "stream",
     "text": [
      "Model: \"sequential_10\"\n",
      "_________________________________________________________________\n",
      " Layer (type)                Output Shape              Param #   \n",
      "=================================================================\n",
      " conv2d_15 (Conv2D)          (None, 64, 64, 200)       9800      \n",
      "                                                                 \n",
      " conv2d_16 (Conv2D)          (None, 32, 32, 100)       500100    \n",
      "                                                                 \n",
      " conv2d_17 (Conv2D)          (None, 16, 16, 9)         22509     \n",
      "                                                                 \n",
      " flatten_2 (Flatten)         (None, 2304)              0         \n",
      "                                                                 \n",
      " dense_4 (Dense)             (None, 1)                 2305      \n",
      "                                                                 \n",
      "=================================================================\n",
      "Total params: 534,714\n",
      "Trainable params: 534,714\n",
      "Non-trainable params: 0\n",
      "_________________________________________________________________\n"
     ]
    }
   ],
   "source": [
    "discriminator.summary()"
   ]
  }
 ],
 "metadata": {
  "kernelspec": {
   "display_name": "Python 3 (ipykernel)",
   "language": "python",
   "name": "python3"
  },
  "language_info": {
   "codemirror_mode": {
    "name": "ipython",
    "version": 3
   },
   "file_extension": ".py",
   "mimetype": "text/x-python",
   "name": "python",
   "nbconvert_exporter": "python",
   "pygments_lexer": "ipython3",
   "version": "3.9.5"
  }
 },
 "nbformat": 4,
 "nbformat_minor": 5
}
